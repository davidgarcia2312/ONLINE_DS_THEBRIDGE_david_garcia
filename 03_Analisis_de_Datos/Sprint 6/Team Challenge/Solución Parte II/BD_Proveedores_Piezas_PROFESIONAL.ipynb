{
 "cells": [
  {
   "cell_type": "markdown",
   "id": "e9fc6540",
   "metadata": {},
   "source": [
    "![Modelo ER](Modelo_Entidad_Relacion.png)"
   ]
  },
  {
   "cell_type": "markdown",
   "id": "475f99f0",
   "metadata": {},
   "source": [
    "# 🛠️ Creación de Base de Datos: Proveedores y Piezas"
   ]
  },
  {
   "cell_type": "markdown",
   "id": "942f8ab9",
   "metadata": {},
   "source": [
    "\n",
    "Este notebook crea una base de datos relacional sobre proveedores, piezas, categorías y suministros. Incluye:\n",
    "- Creación de tablas con claves primarias y foráneas\n",
    "- Inserción de datos representativos\n",
    "- Consultas de prueba para verificar la integridad\n",
    "\n",
    "Base de datos: `proveedores.db`\n"
   ]
  },
  {
   "cell_type": "code",
   "execution_count": null,
   "id": "b275b451",
   "metadata": {},
   "outputs": [],
   "source": [
    "\n",
    "import sqlite3\n",
    "import pandas as pd\n",
    "\n",
    "# Crear conexión\n",
    "conn = sqlite3.connect(\"proveedores.db\")\n",
    "cursor = conn.cursor()\n"
   ]
  },
  {
   "cell_type": "markdown",
   "id": "6aa39a41",
   "metadata": {},
   "source": [
    "## 📐 Crear tablas"
   ]
  },
  {
   "cell_type": "code",
   "execution_count": null,
   "id": "097e96bc",
   "metadata": {},
   "outputs": [],
   "source": [
    "\n",
    "cursor.executescript(\"\"\"\n",
    "DROP TABLE IF EXISTS suministro;\n",
    "DROP TABLE IF EXISTS pieza;\n",
    "DROP TABLE IF EXISTS proveedor;\n",
    "DROP TABLE IF EXISTS categoria;\n",
    "\n",
    "CREATE TABLE proveedor (\n",
    "    codigo_proveedor INTEGER PRIMARY KEY,\n",
    "    nombre TEXT NOT NULL,\n",
    "    direccion TEXT,\n",
    "    ciudad TEXT,\n",
    "    provincia TEXT\n",
    ");\n",
    "\n",
    "CREATE TABLE categoria (\n",
    "    codigo_categoria INTEGER PRIMARY KEY,\n",
    "    nombre TEXT NOT NULL\n",
    ");\n",
    "\n",
    "CREATE TABLE pieza (\n",
    "    codigo_pieza INTEGER PRIMARY KEY,\n",
    "    nombre TEXT NOT NULL,\n",
    "    color TEXT,\n",
    "    precio REAL,\n",
    "    codigo_categoria INTEGER,\n",
    "    FOREIGN KEY (codigo_categoria) REFERENCES categoria(codigo_categoria)\n",
    ");\n",
    "\n",
    "CREATE TABLE suministro (\n",
    "    codigo_proveedor INTEGER,\n",
    "    codigo_pieza INTEGER,\n",
    "    fecha TEXT,\n",
    "    cantidad INTEGER,\n",
    "    PRIMARY KEY (codigo_proveedor, codigo_pieza, fecha),\n",
    "    FOREIGN KEY (codigo_proveedor) REFERENCES proveedor(codigo_proveedor),\n",
    "    FOREIGN KEY (codigo_pieza) REFERENCES pieza(codigo_pieza)\n",
    ");\n",
    "\"\"\")\n"
   ]
  },
  {
   "cell_type": "markdown",
   "id": "32d1c86f",
   "metadata": {},
   "source": [
    "## 📦 Insertar datos de ejemplo"
   ]
  },
  {
   "cell_type": "code",
   "execution_count": null,
   "id": "336b7e33",
   "metadata": {},
   "outputs": [],
   "source": [
    "\n",
    "# Categorías\n",
    "categorias = [\n",
    "    (1, \"Electrónica\"),\n",
    "    (2, \"Ferretería\"),\n",
    "    (3, \"Mecánica\")\n",
    "]\n",
    "\n",
    "cursor.executemany(\"INSERT INTO categoria VALUES (?, ?);\", categorias)\n",
    "\n",
    "# Proveedores\n",
    "proveedores = [\n",
    "    (100, \"Suministros León\", \"Av. Roma 12\", \"León\", \"Castilla y León\"),\n",
    "    (101, \"Distribuciones Norte\", \"C/ Gran Vía 5\", \"Oviedo\", \"Asturias\")\n",
    "]\n",
    "\n",
    "cursor.executemany(\"INSERT INTO proveedor VALUES (?, ?, ?, ?, ?);\", proveedores)\n",
    "\n",
    "# Piezas\n",
    "piezas = [\n",
    "    (200, \"Tornillo M5\", \"plata\", 0.15, 2),\n",
    "    (201, \"Chip XYZ\", \"verde\", 5.00, 1),\n",
    "    (202, \"Filtro aceite\", \"negro\", 3.50, 3)\n",
    "]\n",
    "\n",
    "cursor.executemany(\"INSERT INTO pieza VALUES (?, ?, ?, ?, ?);\", piezas)\n",
    "\n",
    "# Suministros\n",
    "suministros = [\n",
    "    (100, 200, \"2024-03-01\", 500),\n",
    "    (100, 201, \"2024-03-02\", 50),\n",
    "    (101, 202, \"2024-03-01\", 20),\n",
    "    (100, 200, \"2024-04-01\", 300)  # histórico diferente fecha\n",
    "]\n",
    "\n",
    "cursor.executemany(\"INSERT INTO suministro VALUES (?, ?, ?, ?);\", suministros)\n",
    "\n",
    "conn.commit()\n"
   ]
  },
  {
   "cell_type": "markdown",
   "id": "9aba94f2",
   "metadata": {},
   "source": [
    "## 🔍 Consultas de prueba"
   ]
  },
  {
   "cell_type": "code",
   "execution_count": null,
   "id": "fa85e4f2",
   "metadata": {},
   "outputs": [],
   "source": [
    "\n",
    "# Ver todos los proveedores\n",
    "pd.read_sql_query(\"SELECT * FROM proveedor\", conn)\n"
   ]
  },
  {
   "cell_type": "code",
   "execution_count": null,
   "id": "df763a69",
   "metadata": {},
   "outputs": [],
   "source": [
    "\n",
    "# Ver suministros de un proveedor\n",
    "pd.read_sql_query(\"\"\"\n",
    "SELECT p.nombre AS pieza, s.fecha, s.cantidad\n",
    "FROM suministro s\n",
    "JOIN pieza p ON p.codigo_pieza = s.codigo_pieza\n",
    "WHERE s.codigo_proveedor = 100\n",
    "\"\"\", conn)\n"
   ]
  },
  {
   "cell_type": "markdown",
   "id": "eb39b18c",
   "metadata": {},
   "source": [
    "✅ Base de datos creada y poblada con éxito."
   ]
  }
 ],
 "metadata": {
  "language_info": {
   "name": "python"
  }
 },
 "nbformat": 4,
 "nbformat_minor": 5
}
