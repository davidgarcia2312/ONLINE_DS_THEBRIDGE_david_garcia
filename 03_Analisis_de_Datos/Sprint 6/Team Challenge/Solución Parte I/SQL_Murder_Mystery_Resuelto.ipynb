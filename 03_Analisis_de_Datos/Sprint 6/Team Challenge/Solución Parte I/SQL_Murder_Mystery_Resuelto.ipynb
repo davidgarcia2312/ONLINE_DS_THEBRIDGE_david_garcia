{
 "cells": [
  {
   "cell_type": "markdown",
   "id": "19c8f3c3",
   "metadata": {},
   "source": [
    "\n",
    "# 🕵️ SQL Murder Mystery — Sprint 6\n",
    "\n",
    "En este notebook resolvemos el misterio del asesinato ocurrido el **15 de enero de 2018** en **SQL City**, usando consultas SQL sobre la base de datos proporcionada.\n",
    "\n",
    "Nuestro objetivo: **encontrar al asesino**.\n",
    "\n",
    "---\n",
    "\n",
    "### 🧩 Enunciado\n",
    "> A crime has taken place and the detective needs your help. You vaguely remember that the crime was a **murder** on **Jan.15, 2018** in **SQL City**. Start by retrieving the crime scene report from the police department’s database.\n",
    "\n",
    "---\n"
   ]
  },
  {
   "cell_type": "markdown",
   "id": "7bdf05b9",
   "metadata": {},
   "source": [
    "### 🔎 Paso 1: Informe de la escena del crimen"
   ]
  },
  {
   "cell_type": "code",
   "execution_count": null,
   "id": "001cb7da",
   "metadata": {},
   "outputs": [],
   "source": [
    "query = '''\n",
    "SELECT *\n",
    "FROM crime_scene_report\n",
    "WHERE date = '20180115'\n",
    "  AND type = 'murder'\n",
    "  AND city = 'SQL City';\n",
    "'''\n",
    "pd.read_sql_query(query, conn)"
   ]
  },
  {
   "cell_type": "markdown",
   "id": "b9a810f6",
   "metadata": {},
   "source": [
    "### 🧩 Paso 2: Buscar entrevistas con pistas"
   ]
  },
  {
   "cell_type": "code",
   "execution_count": null,
   "id": "1e71003d",
   "metadata": {},
   "outputs": [],
   "source": [
    "query = '''\n",
    "SELECT *\n",
    "FROM interview\n",
    "WHERE transcript LIKE '%Jan. 15, 2018%'\n",
    "   OR transcript LIKE '%crime scene%'\n",
    "   OR transcript LIKE '%SQL City%'\n",
    "   OR transcript LIKE '%talking%'\n",
    "   OR transcript LIKE '%murder%';\n",
    "'''\n",
    "pd.read_sql_query(query, conn)"
   ]
  },
  {
   "cell_type": "markdown",
   "id": "a03b6cc2",
   "metadata": {},
   "source": [
    "### 👁️ Paso 3: Identificar testigo que vio al asesino"
   ]
  },
  {
   "cell_type": "code",
   "execution_count": null,
   "id": "5dad448d",
   "metadata": {},
   "outputs": [],
   "source": [
    "query = '''\n",
    "SELECT *\n",
    "FROM person\n",
    "WHERE id = 14849;\n",
    "'''\n",
    "pd.read_sql_query(query, conn)"
   ]
  },
  {
   "cell_type": "markdown",
   "id": "5f53d43e",
   "metadata": {},
   "source": [
    "### 🕺 Paso 4: Buscar testigos en eventos públicos"
   ]
  },
  {
   "cell_type": "code",
   "execution_count": null,
   "id": "9cb7a437",
   "metadata": {},
   "outputs": [],
   "source": [
    "query = '''\n",
    "SELECT *\n",
    "FROM facebook_event_checkin\n",
    "WHERE date = '20180115';\n",
    "'''\n",
    "pd.read_sql_query(query, conn)"
   ]
  },
  {
   "cell_type": "markdown",
   "id": "2a662084",
   "metadata": {},
   "source": [
    "### 🧠 Paso 5: Identificar eventos con múltiples asistentes"
   ]
  },
  {
   "cell_type": "code",
   "execution_count": null,
   "id": "77edae9d",
   "metadata": {},
   "outputs": [],
   "source": [
    "query = '''\n",
    "SELECT event_id, COUNT(*) as num_attendees\n",
    "FROM facebook_event_checkin\n",
    "WHERE date = '20180115'\n",
    "GROUP BY event_id\n",
    "HAVING num_attendees > 1;\n",
    "'''\n",
    "pd.read_sql_query(query, conn)"
   ]
  },
  {
   "cell_type": "markdown",
   "id": "fb18e0fa",
   "metadata": {},
   "source": [
    "### 🧑‍🤝‍🧑 Paso 6: Asistentes al evento sospechoso"
   ]
  },
  {
   "cell_type": "code",
   "execution_count": null,
   "id": "2586feb1",
   "metadata": {},
   "outputs": [],
   "source": [
    "query = '''\n",
    "SELECT *\n",
    "FROM facebook_event_checkin\n",
    "WHERE event_id = 2513\n",
    "  AND date = '20180115';\n",
    "'''\n",
    "pd.read_sql_query(query, conn)"
   ]
  },
  {
   "cell_type": "markdown",
   "id": "2cb9c699",
   "metadata": {},
   "source": [
    "### 🆔 Paso 7: Identificar a los testigos"
   ]
  },
  {
   "cell_type": "code",
   "execution_count": null,
   "id": "8df6dd61",
   "metadata": {},
   "outputs": [],
   "source": [
    "query = '''\n",
    "SELECT *\n",
    "FROM person\n",
    "WHERE id IN (20227, 39959);\n",
    "'''\n",
    "pd.read_sql_query(query, conn)"
   ]
  },
  {
   "cell_type": "markdown",
   "id": "eef577db",
   "metadata": {},
   "source": [
    "### 🚗 Paso 8: Datos de licencia del testigo Chadwick"
   ]
  },
  {
   "cell_type": "code",
   "execution_count": null,
   "id": "57d9af29",
   "metadata": {},
   "outputs": [],
   "source": [
    "query = '''\n",
    "SELECT *\n",
    "FROM drivers_license\n",
    "WHERE id = 995406;\n",
    "'''\n",
    "pd.read_sql_query(query, conn)"
   ]
  },
  {
   "cell_type": "markdown",
   "id": "ddf8074a",
   "metadata": {},
   "source": [
    "### 🎯 Paso 9: Buscar sospechosos por edad y pelo blanco"
   ]
  },
  {
   "cell_type": "code",
   "execution_count": null,
   "id": "6f8b2c5b",
   "metadata": {},
   "outputs": [],
   "source": [
    "query = '''\n",
    "SELECT *\n",
    "FROM drivers_license\n",
    "WHERE age BETWEEN 20 AND 40\n",
    "  AND hair_color = 'white';\n",
    "'''\n",
    "pd.read_sql_query(query, conn)"
   ]
  },
  {
   "cell_type": "markdown",
   "id": "cf1e5dcf",
   "metadata": {},
   "source": [
    "### 🕵️ Paso 10: Verificar identidad de los sospechosos"
   ]
  },
  {
   "cell_type": "code",
   "execution_count": null,
   "id": "a6b75542",
   "metadata": {},
   "outputs": [],
   "source": [
    "query = '''\n",
    "SELECT *\n",
    "FROM person\n",
    "WHERE license_id IN (101611, 105508, 106921, 115428, 118181);\n",
    "'''\n",
    "pd.read_sql_query(query, conn)"
   ]
  },
  {
   "cell_type": "markdown",
   "id": "6996a29e",
   "metadata": {},
   "source": [
    "\n",
    "---\n",
    "\n",
    "## ✅ Conclusión final\n",
    "\n",
    "Tras investigar minuciosamente los registros del crimen, eventos públicos y características físicas sospechosas:\n",
    "\n",
    "- El único testigo que vio al asesino fue **Fay Marsden**, quien lo describió como una persona que **llevaba una bolsa** y le preguntó si **era posible cometer un asesinato sin ser atrapado**.\n",
    "- Dos personas fueron vistas hablando y alejándose juntas: **Paulene Reese** y **Chadwick Bartling**.\n",
    "- Chadwick Bartling tiene pelo blanco a los 32 años y estuvo en la escena del crimen.\n",
    "\n",
    "> **Sospechoso principal: Chadwick Bartling**\n",
    "\n",
    "---\n"
   ]
  }
 ],
 "metadata": {},
 "nbformat": 4,
 "nbformat_minor": 5
}
