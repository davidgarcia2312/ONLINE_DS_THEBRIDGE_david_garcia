{
 "cells": [
  {
   "cell_type": "code",
   "execution_count": 28,
   "metadata": {},
   "outputs": [],
   "source": [
    "class sofa:\n",
    "   \n",
    "    #docstring (lo que sale de explicación sobre el objeto)\n",
    "    \"\"\"\n",
    "    Esta es mi clase sofá\n",
    "    \"\"\"\n",
    "\n",
    "    #métodos mágicos\n",
    "    #__add__\n",
    "    #__eq__\n",
    "    #__new__    esto sería realmente el constructor\n",
    "\n",
    "    #por defecto los métodos en una clase son de instancia\n",
    "    #hay atributos de instancia y de clase, los de aqui abajo son de instancia (para cada sofa unos distintos)\n",
    "    #si la mayoria de sofas van a tener un atributo igual defino atributo de clase (igual para todos)\n",
    "\n",
    "    patas = 4 #el atributo de clase (predeterminado para todos los sofas que defina con esta clase)\n",
    "    mi_lista = []\n",
    "\n",
    "    def __init__(self, un_material = \"piedra\", un_chaiselong = False):   # dunder    down under (inicializador)\n",
    "        self.material = un_material\n",
    "        self.chaiselong = un_chaiselong\n",
    "\n",
    "    def cambia_material(self, otro_material):\n",
    "        self.material = otro_material\n",
    "\n",
    "    def agrega(self, cosa):\n",
    "        self.mi_lista.append(cosa)\n",
    "\n",
    "    def __str__(self):\n",
    "        return f\"Soy un sofá y mi material es {self.material}\"\n",
    "    \n",
    "    def imprime_sofa(self):\n",
    "        print(str(self) + \" y, ¿tengo chaiselong?: \" + str(self.chaiselong))"
   ]
  },
  {
   "cell_type": "code",
   "execution_count": 32,
   "metadata": {},
   "outputs": [
    {
     "name": "stdout",
     "output_type": "stream",
     "text": [
      "tela\n",
      "lino\n",
      "Soy un sofá y mi material es polipiel y, ¿tengo chaiselong?: False\n",
      "8\n",
      "4\n"
     ]
    }
   ],
   "source": [
    "#inicializo con el nombre de la clase\n",
    "sofa1 = sofa(\"tela\")\n",
    "sofa2 = sofa(\"lino\", True)\n",
    "sofa3 = sofa()\n",
    "\n",
    "#al ser las listas mutables, si cambio el atributo de clase desde una instancia modifica el atributo de clase\n",
    "sofa1.agrega(\"lalala\")\n",
    "sofa2.agrega(\"lololo\")\n",
    "sofa3.agrega(\"lululu\")\n",
    "\n",
    "print(sofa1.material)\n",
    "print(sofa2.material)\n",
    "\n",
    "sofa1.cambia_material(\"polipiel\")\n",
    "sofa2.cambia_material(\"madera\")\n",
    "sofa1.imprime_sofa()\n",
    "\n",
    "sofa1.patas = 8\n",
    "print(sofa1.patas)\n",
    "print(sofa.patas)"
   ]
  },
  {
   "cell_type": "code",
   "execution_count": 50,
   "metadata": {},
   "outputs": [
    {
     "data": {
      "text/plain": [
       "[['hola']]"
      ]
     },
     "execution_count": 50,
     "metadata": {},
     "output_type": "execute_result"
    }
   ],
   "source": [
    "n = 1\n",
    "m = n\n",
    "\n",
    "lista = [\"hola\"]\n",
    "\n",
    "saludo = \"hola\"\n",
    "otro = saludo\n",
    "\n",
    "import copy\n",
    "\n",
    "a = [lista]\n",
    "b = a.copy()#copia superficial, si hay elementos mutables dentro apunta al mismo\n",
    "c = copy.deepcopy(a)#copia profunda hace copia de cosas distintas de todo, también lo que hay dentro\n",
    "\n",
    "a\n",
    "b\n",
    "c"
   ]
  },
  {
   "cell_type": "code",
   "execution_count": null,
   "metadata": {},
   "outputs": [],
   "source": []
  }
 ],
 "metadata": {
  "kernelspec": {
   "display_name": "Python 3",
   "language": "python",
   "name": "python3"
  },
  "language_info": {
   "codemirror_mode": {
    "name": "ipython",
    "version": 3
   },
   "file_extension": ".py",
   "mimetype": "text/x-python",
   "name": "python",
   "nbconvert_exporter": "python",
   "pygments_lexer": "ipython3",
   "version": "3.13.2"
  }
 },
 "nbformat": 4,
 "nbformat_minor": 2
}
