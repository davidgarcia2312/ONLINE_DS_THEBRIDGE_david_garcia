{
 "cells": [
  {
   "cell_type": "markdown",
   "metadata": {},
   "source": [
    "## Kaggle – DataTops®\n",
    "Tu profe ha decidido cambiar de aires y, por eso, ha comprado una tienda de portátiles. Sin embargo, su única especialidad es Data Science, por lo que ha decidido crear un modelo de ML para establecer los mejores precios.\n",
    "\n",
    "¿Podrías ayudar a tu profe a mejorar ese modelo?"
   ]
  },
  {
   "cell_type": "markdown",
   "metadata": {},
   "source": [
    "## Métrica: \n",
    "Error de raíz cuadrada media (RMSE) es la desviación estándar de los valores residuales (errores de predicción). Los valores residuales son una medida de la distancia de los puntos de datos de la línea de regresión; RMSE es una medida de cuál es el nivel de dispersión de estos valores residuales. En otras palabras, le indica el nivel de concentración de los datos en la línea de mejor ajuste.\n",
    "\n",
    "\n",
    "$$ RMSE = \\sqrt{\\frac{1}{n}\\Sigma_{i=1}^{n}{\\Big(\\frac{d_i -f_i}{\\sigma_i}\\Big)^2}}$$\n"
   ]
  },
  {
   "cell_type": "markdown",
   "metadata": {},
   "source": [
    "## Librerías"
   ]
  },
  {
   "cell_type": "code",
   "execution_count": 1,
   "metadata": {},
   "outputs": [],
   "source": [
    "import numpy as np\n",
    "import pandas as pd\n",
    "import toolbox_ML as tb\n",
    "import re\n",
    "from PIL import Image\n",
    "from sklearn.model_selection import train_test_split, GridSearchCV\n",
    "from xgboost import XGBRegressor\n",
    "import urllib.request"
   ]
  },
  {
   "cell_type": "markdown",
   "metadata": {},
   "source": [
    "## Datos"
   ]
  },
  {
   "cell_type": "code",
   "execution_count": 2,
   "metadata": {},
   "outputs": [],
   "source": [
    "# Carga de datos\n",
    "df = pd.read_csv(\"./data/train.csv\", index_col=\"laptop_ID\")\n",
    "test = pd.read_csv(\"./data/test.csv\", index_col=\"laptop_ID\")\n",
    "\n",
    "# Convertimos nombres de columnas a minúsculas\n",
    "df.columns = df.columns.str.lower()\n",
    "test.columns = test.columns.str.lower()"
   ]
  },
  {
   "cell_type": "markdown",
   "metadata": {},
   "source": [
    "## Exploración de los datos"
   ]
  },
  {
   "cell_type": "code",
   "execution_count": 3,
   "metadata": {},
   "outputs": [
    {
     "data": {
      "text/html": [
       "<div>\n",
       "<style scoped>\n",
       "    .dataframe tbody tr th:only-of-type {\n",
       "        vertical-align: middle;\n",
       "    }\n",
       "\n",
       "    .dataframe tbody tr th {\n",
       "        vertical-align: top;\n",
       "    }\n",
       "\n",
       "    .dataframe thead th {\n",
       "        text-align: right;\n",
       "    }\n",
       "</style>\n",
       "<table border=\"1\" class=\"dataframe\">\n",
       "  <thead>\n",
       "    <tr style=\"text-align: right;\">\n",
       "      <th></th>\n",
       "      <th>company</th>\n",
       "      <th>product</th>\n",
       "      <th>typename</th>\n",
       "      <th>inches</th>\n",
       "      <th>screenresolution</th>\n",
       "      <th>cpu</th>\n",
       "      <th>ram</th>\n",
       "      <th>memory</th>\n",
       "      <th>gpu</th>\n",
       "      <th>opsys</th>\n",
       "      <th>weight</th>\n",
       "      <th>price_in_euros</th>\n",
       "    </tr>\n",
       "    <tr>\n",
       "      <th>laptop_ID</th>\n",
       "      <th></th>\n",
       "      <th></th>\n",
       "      <th></th>\n",
       "      <th></th>\n",
       "      <th></th>\n",
       "      <th></th>\n",
       "      <th></th>\n",
       "      <th></th>\n",
       "      <th></th>\n",
       "      <th></th>\n",
       "      <th></th>\n",
       "      <th></th>\n",
       "    </tr>\n",
       "  </thead>\n",
       "  <tbody>\n",
       "    <tr>\n",
       "      <th>755</th>\n",
       "      <td>HP</td>\n",
       "      <td>250 G6</td>\n",
       "      <td>Notebook</td>\n",
       "      <td>15.6</td>\n",
       "      <td>Full HD 1920x1080</td>\n",
       "      <td>Intel Core i3 6006U 2GHz</td>\n",
       "      <td>8GB</td>\n",
       "      <td>256GB SSD</td>\n",
       "      <td>Intel HD Graphics 520</td>\n",
       "      <td>Windows 10</td>\n",
       "      <td>1.86kg</td>\n",
       "      <td>539.00</td>\n",
       "    </tr>\n",
       "    <tr>\n",
       "      <th>618</th>\n",
       "      <td>Dell</td>\n",
       "      <td>Inspiron 7559</td>\n",
       "      <td>Gaming</td>\n",
       "      <td>15.6</td>\n",
       "      <td>Full HD 1920x1080</td>\n",
       "      <td>Intel Core i7 6700HQ 2.6GHz</td>\n",
       "      <td>16GB</td>\n",
       "      <td>1TB HDD</td>\n",
       "      <td>Nvidia GeForce GTX 960&lt;U+039C&gt;</td>\n",
       "      <td>Windows 10</td>\n",
       "      <td>2.59kg</td>\n",
       "      <td>879.01</td>\n",
       "    </tr>\n",
       "    <tr>\n",
       "      <th>909</th>\n",
       "      <td>HP</td>\n",
       "      <td>ProBook 450</td>\n",
       "      <td>Notebook</td>\n",
       "      <td>15.6</td>\n",
       "      <td>Full HD 1920x1080</td>\n",
       "      <td>Intel Core i7 7500U 2.7GHz</td>\n",
       "      <td>8GB</td>\n",
       "      <td>1TB HDD</td>\n",
       "      <td>Nvidia GeForce 930MX</td>\n",
       "      <td>Windows 10</td>\n",
       "      <td>2.04kg</td>\n",
       "      <td>900.00</td>\n",
       "    </tr>\n",
       "    <tr>\n",
       "      <th>2</th>\n",
       "      <td>Apple</td>\n",
       "      <td>Macbook Air</td>\n",
       "      <td>Ultrabook</td>\n",
       "      <td>13.3</td>\n",
       "      <td>1440x900</td>\n",
       "      <td>Intel Core i5 1.8GHz</td>\n",
       "      <td>8GB</td>\n",
       "      <td>128GB Flash Storage</td>\n",
       "      <td>Intel HD Graphics 6000</td>\n",
       "      <td>macOS</td>\n",
       "      <td>1.34kg</td>\n",
       "      <td>898.94</td>\n",
       "    </tr>\n",
       "    <tr>\n",
       "      <th>286</th>\n",
       "      <td>Dell</td>\n",
       "      <td>Inspiron 3567</td>\n",
       "      <td>Notebook</td>\n",
       "      <td>15.6</td>\n",
       "      <td>Full HD 1920x1080</td>\n",
       "      <td>Intel Core i3 6006U 2.0GHz</td>\n",
       "      <td>4GB</td>\n",
       "      <td>1TB HDD</td>\n",
       "      <td>AMD Radeon R5 M430</td>\n",
       "      <td>Linux</td>\n",
       "      <td>2.25kg</td>\n",
       "      <td>428.00</td>\n",
       "    </tr>\n",
       "    <tr>\n",
       "      <th>...</th>\n",
       "      <td>...</td>\n",
       "      <td>...</td>\n",
       "      <td>...</td>\n",
       "      <td>...</td>\n",
       "      <td>...</td>\n",
       "      <td>...</td>\n",
       "      <td>...</td>\n",
       "      <td>...</td>\n",
       "      <td>...</td>\n",
       "      <td>...</td>\n",
       "      <td>...</td>\n",
       "      <td>...</td>\n",
       "    </tr>\n",
       "    <tr>\n",
       "      <th>28</th>\n",
       "      <td>Dell</td>\n",
       "      <td>Inspiron 5570</td>\n",
       "      <td>Notebook</td>\n",
       "      <td>15.6</td>\n",
       "      <td>Full HD 1920x1080</td>\n",
       "      <td>Intel Core i5 8250U 1.6GHz</td>\n",
       "      <td>8GB</td>\n",
       "      <td>256GB SSD</td>\n",
       "      <td>AMD Radeon 530</td>\n",
       "      <td>Windows 10</td>\n",
       "      <td>2.2kg</td>\n",
       "      <td>800.00</td>\n",
       "    </tr>\n",
       "    <tr>\n",
       "      <th>1160</th>\n",
       "      <td>HP</td>\n",
       "      <td>Spectre Pro</td>\n",
       "      <td>2 in 1 Convertible</td>\n",
       "      <td>13.3</td>\n",
       "      <td>Full HD / Touchscreen 1920x1080</td>\n",
       "      <td>Intel Core i5 6300U 2.4GHz</td>\n",
       "      <td>8GB</td>\n",
       "      <td>256GB SSD</td>\n",
       "      <td>Intel HD Graphics 520</td>\n",
       "      <td>Windows 10</td>\n",
       "      <td>1.48kg</td>\n",
       "      <td>1629.00</td>\n",
       "    </tr>\n",
       "    <tr>\n",
       "      <th>78</th>\n",
       "      <td>Lenovo</td>\n",
       "      <td>IdeaPad 320-15IKBN</td>\n",
       "      <td>Notebook</td>\n",
       "      <td>15.6</td>\n",
       "      <td>Full HD 1920x1080</td>\n",
       "      <td>Intel Core i5 7200U 2.5GHz</td>\n",
       "      <td>8GB</td>\n",
       "      <td>2TB HDD</td>\n",
       "      <td>Intel HD Graphics 620</td>\n",
       "      <td>No OS</td>\n",
       "      <td>2.2kg</td>\n",
       "      <td>519.00</td>\n",
       "    </tr>\n",
       "    <tr>\n",
       "      <th>23</th>\n",
       "      <td>HP</td>\n",
       "      <td>255 G6</td>\n",
       "      <td>Notebook</td>\n",
       "      <td>15.6</td>\n",
       "      <td>1366x768</td>\n",
       "      <td>AMD E-Series E2-9000e 1.5GHz</td>\n",
       "      <td>4GB</td>\n",
       "      <td>500GB HDD</td>\n",
       "      <td>AMD Radeon R2</td>\n",
       "      <td>No OS</td>\n",
       "      <td>1.86kg</td>\n",
       "      <td>258.00</td>\n",
       "    </tr>\n",
       "    <tr>\n",
       "      <th>229</th>\n",
       "      <td>Dell</td>\n",
       "      <td>Alienware 17</td>\n",
       "      <td>Gaming</td>\n",
       "      <td>17.3</td>\n",
       "      <td>IPS Panel Full HD 1920x1080</td>\n",
       "      <td>Intel Core i7 7700HQ 2.8GHz</td>\n",
       "      <td>16GB</td>\n",
       "      <td>256GB SSD +  1TB HDD</td>\n",
       "      <td>Nvidia GeForce GTX 1060</td>\n",
       "      <td>Windows 10</td>\n",
       "      <td>4.42kg</td>\n",
       "      <td>2456.34</td>\n",
       "    </tr>\n",
       "  </tbody>\n",
       "</table>\n",
       "<p>912 rows × 12 columns</p>\n",
       "</div>"
      ],
      "text/plain": [
       "          company             product            typename  inches  \\\n",
       "laptop_ID                                                           \n",
       "755            HP              250 G6            Notebook    15.6   \n",
       "618          Dell       Inspiron 7559              Gaming    15.6   \n",
       "909            HP         ProBook 450            Notebook    15.6   \n",
       "2           Apple         Macbook Air           Ultrabook    13.3   \n",
       "286          Dell       Inspiron 3567            Notebook    15.6   \n",
       "...           ...                 ...                 ...     ...   \n",
       "28           Dell       Inspiron 5570            Notebook    15.6   \n",
       "1160           HP         Spectre Pro  2 in 1 Convertible    13.3   \n",
       "78         Lenovo  IdeaPad 320-15IKBN            Notebook    15.6   \n",
       "23             HP              255 G6            Notebook    15.6   \n",
       "229          Dell        Alienware 17              Gaming    17.3   \n",
       "\n",
       "                          screenresolution                           cpu  \\\n",
       "laptop_ID                                                                  \n",
       "755                      Full HD 1920x1080      Intel Core i3 6006U 2GHz   \n",
       "618                      Full HD 1920x1080   Intel Core i7 6700HQ 2.6GHz   \n",
       "909                      Full HD 1920x1080    Intel Core i7 7500U 2.7GHz   \n",
       "2                                 1440x900          Intel Core i5 1.8GHz   \n",
       "286                      Full HD 1920x1080    Intel Core i3 6006U 2.0GHz   \n",
       "...                                    ...                           ...   \n",
       "28                       Full HD 1920x1080    Intel Core i5 8250U 1.6GHz   \n",
       "1160       Full HD / Touchscreen 1920x1080    Intel Core i5 6300U 2.4GHz   \n",
       "78                       Full HD 1920x1080    Intel Core i5 7200U 2.5GHz   \n",
       "23                                1366x768  AMD E-Series E2-9000e 1.5GHz   \n",
       "229            IPS Panel Full HD 1920x1080   Intel Core i7 7700HQ 2.8GHz   \n",
       "\n",
       "            ram                memory                             gpu  \\\n",
       "laptop_ID                                                               \n",
       "755         8GB             256GB SSD           Intel HD Graphics 520   \n",
       "618        16GB               1TB HDD  Nvidia GeForce GTX 960<U+039C>   \n",
       "909         8GB               1TB HDD            Nvidia GeForce 930MX   \n",
       "2           8GB   128GB Flash Storage          Intel HD Graphics 6000   \n",
       "286         4GB               1TB HDD              AMD Radeon R5 M430   \n",
       "...         ...                   ...                             ...   \n",
       "28          8GB             256GB SSD                  AMD Radeon 530   \n",
       "1160        8GB             256GB SSD           Intel HD Graphics 520   \n",
       "78          8GB               2TB HDD           Intel HD Graphics 620   \n",
       "23          4GB             500GB HDD                   AMD Radeon R2   \n",
       "229        16GB  256GB SSD +  1TB HDD         Nvidia GeForce GTX 1060   \n",
       "\n",
       "                opsys  weight  price_in_euros  \n",
       "laptop_ID                                      \n",
       "755        Windows 10  1.86kg          539.00  \n",
       "618        Windows 10  2.59kg          879.01  \n",
       "909        Windows 10  2.04kg          900.00  \n",
       "2               macOS  1.34kg          898.94  \n",
       "286             Linux  2.25kg          428.00  \n",
       "...               ...     ...             ...  \n",
       "28         Windows 10   2.2kg          800.00  \n",
       "1160       Windows 10  1.48kg         1629.00  \n",
       "78              No OS   2.2kg          519.00  \n",
       "23              No OS  1.86kg          258.00  \n",
       "229        Windows 10  4.42kg         2456.34  \n",
       "\n",
       "[912 rows x 12 columns]"
      ]
     },
     "metadata": {},
     "output_type": "display_data"
    },
    {
     "name": "stdout",
     "output_type": "stream",
     "text": [
      "<class 'pandas.core.frame.DataFrame'>\n",
      "Index: 912 entries, 755 to 229\n",
      "Data columns (total 12 columns):\n",
      " #   Column            Non-Null Count  Dtype  \n",
      "---  ------            --------------  -----  \n",
      " 0   company           912 non-null    object \n",
      " 1   product           912 non-null    object \n",
      " 2   typename          912 non-null    object \n",
      " 3   inches            912 non-null    float64\n",
      " 4   screenresolution  912 non-null    object \n",
      " 5   cpu               912 non-null    object \n",
      " 6   ram               912 non-null    object \n",
      " 7   memory            912 non-null    object \n",
      " 8   gpu               912 non-null    object \n",
      " 9   opsys             912 non-null    object \n",
      " 10  weight            912 non-null    object \n",
      " 11  price_in_euros    912 non-null    float64\n",
      "dtypes: float64(2), object(10)\n",
      "memory usage: 92.6+ KB\n",
      "None\n"
     ]
    }
   ],
   "source": [
    "display(df)\n",
    "print(df.info())"
   ]
  },
  {
   "cell_type": "code",
   "execution_count": 4,
   "metadata": {},
   "outputs": [
    {
     "data": {
      "text/html": [
       "<div>\n",
       "<style scoped>\n",
       "    .dataframe tbody tr th:only-of-type {\n",
       "        vertical-align: middle;\n",
       "    }\n",
       "\n",
       "    .dataframe tbody tr th {\n",
       "        vertical-align: top;\n",
       "    }\n",
       "\n",
       "    .dataframe thead th {\n",
       "        text-align: right;\n",
       "    }\n",
       "</style>\n",
       "<table border=\"1\" class=\"dataframe\">\n",
       "  <thead>\n",
       "    <tr style=\"text-align: right;\">\n",
       "      <th></th>\n",
       "      <th>company</th>\n",
       "      <th>product</th>\n",
       "      <th>typename</th>\n",
       "      <th>inches</th>\n",
       "      <th>screenresolution</th>\n",
       "      <th>cpu</th>\n",
       "      <th>ram</th>\n",
       "      <th>memory</th>\n",
       "      <th>gpu</th>\n",
       "      <th>opsys</th>\n",
       "      <th>weight</th>\n",
       "      <th>price_in_euros</th>\n",
       "    </tr>\n",
       "  </thead>\n",
       "  <tbody>\n",
       "    <tr>\n",
       "      <th>DATA_TYPE</th>\n",
       "      <td>object</td>\n",
       "      <td>object</td>\n",
       "      <td>object</td>\n",
       "      <td>float64</td>\n",
       "      <td>object</td>\n",
       "      <td>object</td>\n",
       "      <td>object</td>\n",
       "      <td>object</td>\n",
       "      <td>object</td>\n",
       "      <td>object</td>\n",
       "      <td>object</td>\n",
       "      <td>float64</td>\n",
       "    </tr>\n",
       "    <tr>\n",
       "      <th>MISSINGS (%)</th>\n",
       "      <td>0.0</td>\n",
       "      <td>0.0</td>\n",
       "      <td>0.0</td>\n",
       "      <td>0.0</td>\n",
       "      <td>0.0</td>\n",
       "      <td>0.0</td>\n",
       "      <td>0.0</td>\n",
       "      <td>0.0</td>\n",
       "      <td>0.0</td>\n",
       "      <td>0.0</td>\n",
       "      <td>0.0</td>\n",
       "      <td>0.0</td>\n",
       "    </tr>\n",
       "    <tr>\n",
       "      <th>UNIQUE_VALUES</th>\n",
       "      <td>19</td>\n",
       "      <td>480</td>\n",
       "      <td>6</td>\n",
       "      <td>17</td>\n",
       "      <td>36</td>\n",
       "      <td>107</td>\n",
       "      <td>9</td>\n",
       "      <td>37</td>\n",
       "      <td>93</td>\n",
       "      <td>9</td>\n",
       "      <td>165</td>\n",
       "      <td>603</td>\n",
       "    </tr>\n",
       "    <tr>\n",
       "      <th>CARDIN (%)</th>\n",
       "      <td>2.08</td>\n",
       "      <td>52.63</td>\n",
       "      <td>0.66</td>\n",
       "      <td>1.86</td>\n",
       "      <td>3.95</td>\n",
       "      <td>11.73</td>\n",
       "      <td>0.99</td>\n",
       "      <td>4.06</td>\n",
       "      <td>10.2</td>\n",
       "      <td>0.99</td>\n",
       "      <td>18.09</td>\n",
       "      <td>66.12</td>\n",
       "    </tr>\n",
       "  </tbody>\n",
       "</table>\n",
       "</div>"
      ],
      "text/plain": [
       "              company product typename   inches screenresolution     cpu  \\\n",
       "DATA_TYPE      object  object   object  float64           object  object   \n",
       "MISSINGS (%)      0.0     0.0      0.0      0.0              0.0     0.0   \n",
       "UNIQUE_VALUES      19     480        6       17               36     107   \n",
       "CARDIN (%)       2.08   52.63     0.66     1.86             3.95   11.73   \n",
       "\n",
       "                  ram  memory     gpu   opsys  weight price_in_euros  \n",
       "DATA_TYPE      object  object  object  object  object        float64  \n",
       "MISSINGS (%)      0.0     0.0     0.0     0.0     0.0            0.0  \n",
       "UNIQUE_VALUES       9      37      93       9     165            603  \n",
       "CARDIN (%)       0.99    4.06    10.2    0.99   18.09          66.12  "
      ]
     },
     "execution_count": 4,
     "metadata": {},
     "output_type": "execute_result"
    }
   ],
   "source": [
    "tb.describe_df(df)"
   ]
  },
  {
   "cell_type": "markdown",
   "metadata": {},
   "source": [
    "## Procesado de datos"
   ]
  },
  {
   "cell_type": "markdown",
   "metadata": {},
   "source": [
    "En primer lugar añadimos una celda de código necesaria pues, en una primera ejecución de XGBoost, teníamos problemas con los caracteres \">\" y \"<\" incluidos en \"Nvidia GeForce GTX 960<U+039C>\", una de las gráficas que pasa a ser una columna al hacer el one hot encoding. Ese código entre esos dos símbolos hace referencia a la letra $\\mu$, que al tabular los datos queda reflejado con su codificación en unicode."
   ]
  },
  {
   "cell_type": "code",
   "execution_count": 5,
   "metadata": {},
   "outputs": [],
   "source": [
    "# Sustituimos los símbolos que luego nos daban problemas en XGBoost\n",
    "df[\"gpu\"] = df[\"gpu\"].str.replace(\"<\", \"\", regex=False).str.replace(\">\", \"\", regex=False)\n",
    "test[\"gpu\"] = test[\"gpu\"].str.replace(\"<\", \"\", regex=False).str.replace(\">\", \"\", regex=False)"
   ]
  },
  {
   "cell_type": "markdown",
   "metadata": {},
   "source": [
    "Después de hacer un value counts, convertimos a numéricas de un primer plumazo las tres columnnas que son más inmediatas. La ram, expresada en GB, el peso, en kg, y la resolución vertical y horizontal que extraemos de la columna screen resolution."
   ]
  },
  {
   "cell_type": "code",
   "execution_count": 6,
   "metadata": {},
   "outputs": [
    {
     "name": "stdout",
     "output_type": "stream",
     "text": [
      "ram\n",
      "8GB     434\n",
      "4GB     267\n",
      "16GB    136\n",
      "6GB      24\n",
      "2GB      20\n",
      "12GB     19\n",
      "32GB     10\n",
      "64GB      1\n",
      "24GB      1\n",
      "Name: count, dtype: int64\n",
      "weight\n",
      "2.2kg     91\n",
      "2.1kg     40\n",
      "2.4kg     31\n",
      "2.5kg     29\n",
      "2.3kg     27\n",
      "          ..\n",
      "0.91kg     1\n",
      "2.15kg     1\n",
      "2.54kg     1\n",
      "1.18kg     1\n",
      "4.33kg     1\n",
      "Name: count, Length: 165, dtype: int64\n",
      "screenresolution\n",
      "Full HD 1920x1080                                349\n",
      "1366x768                                         211\n",
      "IPS Panel Full HD 1920x1080                      163\n",
      "IPS Panel Full HD / Touchscreen 1920x1080         32\n",
      "Full HD / Touchscreen 1920x1080                   30\n",
      "1600x900                                          14\n",
      "Quad HD+ / Touchscreen 3200x1800                  11\n",
      "Touchscreen 1366x768                              11\n",
      "IPS Panel 4K Ultra HD / Touchscreen 3840x2160     10\n",
      "4K Ultra HD / Touchscreen 3840x2160                7\n",
      "Touchscreen 2560x1440                              6\n",
      "IPS Panel Quad HD+ / Touchscreen 3200x1800         6\n",
      "IPS Panel 4K Ultra HD 3840x2160                    5\n",
      "IPS Panel Retina Display 2560x1600                 5\n",
      "Touchscreen 2256x1504                              5\n",
      "1440x900                                           4\n",
      "IPS Panel Touchscreen 2560x1440                    4\n",
      "IPS Panel Retina Display 2304x1440                 4\n",
      "IPS Panel 1366x768                                 4\n",
      "IPS Panel Quad HD+ 2560x1440                       3\n",
      "IPS Panel Retina Display 2880x1800                 3\n",
      "4K Ultra HD 3840x2160                              3\n",
      "IPS Panel 2560x1440                                3\n",
      "1920x1080                                          2\n",
      "IPS Panel Full HD 2160x1440                        2\n",
      "Touchscreen 2400x1600                              2\n",
      "IPS Panel Touchscreen 1920x1200                    2\n",
      "Quad HD+ 3200x1800                                 2\n",
      "IPS Panel Touchscreen 1366x768                     2\n",
      "IPS Panel Full HD 2560x1440                        1\n",
      "Touchscreen / Quad HD+ 3200x1800                   1\n",
      "IPS Panel Quad HD+ 3200x1800                       1\n",
      "2560x1440                                          1\n",
      "Touchscreen / 4K Ultra HD 3840x2160                1\n",
      "Touchscreen / Full HD 1920x1080                    1\n",
      "IPS Panel Full HD 1920x1200                        1\n",
      "Name: count, dtype: int64\n"
     ]
    }
   ],
   "source": [
    "print(df.ram.value_counts())\n",
    "print(df.weight.value_counts())\n",
    "print(df.screenresolution.value_counts())"
   ]
  },
  {
   "cell_type": "code",
   "execution_count": 7,
   "metadata": {},
   "outputs": [],
   "source": [
    "# Convertimos algunas a numéricas\n",
    "df[\"ram_in_gb\"] = df[\"ram\"].str.replace(\"GB\", \"\").astype(float)\n",
    "test[\"ram_in_gb\"] = test[\"ram\"].str.replace(\"GB\", \"\").astype(float)\n",
    "\n",
    "df[\"weight_in_kg\"] = df[\"weight\"].str.replace(\"kg\", \"\").astype(float)\n",
    "test[\"weight_in_kg\"] = test[\"weight\"].str.replace(\"kg\", \"\").astype(float)\n",
    "\n",
    "df[\"res_x\"] = df[\"screenresolution\"].str.extract(r\"(\\d+)[xX]\", expand=False).astype(float)\n",
    "df[\"res_y\"] = df[\"screenresolution\"].str.extract(r\"[xX](\\d+)\", expand=False).astype(float)\n",
    "\n",
    "test[\"res_x\"] = test[\"screenresolution\"].str.extract(r\"(\\d+)[xX]\", expand=False).astype(float)\n",
    "test[\"res_y\"] = test[\"screenresolution\"].str.extract(r\"[xX](\\d+)\", expand=False).astype(float)"
   ]
  },
  {
   "cell_type": "markdown",
   "metadata": {},
   "source": [
    "Ahora usaremos los rawstrings y las conversiones entre GB y TB para separar la columna de almacenamiento en dos numéricas que recojan toda la información. Por un lado la memoria SSD y por otro lado la total (para tener en cuenta también los que tengan discos duros o demás almacenamiento externo)."
   ]
  },
  {
   "cell_type": "code",
   "execution_count": 8,
   "metadata": {},
   "outputs": [
    {
     "name": "stdout",
     "output_type": "stream",
     "text": [
      "memory\n",
      "256GB SSD                        282\n",
      "1TB HDD                          152\n",
      "500GB HDD                         92\n",
      "512GB SSD                         83\n",
      "128GB SSD +  1TB HDD              67\n",
      "128GB SSD                         54\n",
      "256GB SSD +  1TB HDD              52\n",
      "32GB Flash Storage                33\n",
      "1TB SSD                           12\n",
      "64GB Flash Storage                11\n",
      "2TB HDD                            8\n",
      "512GB SSD +  1TB HDD               8\n",
      "256GB Flash Storage                7\n",
      "256GB SSD +  2TB HDD               6\n",
      "16GB Flash Storage                 6\n",
      "1.0TB Hybrid                       5\n",
      "32GB SSD                           5\n",
      "128GB Flash Storage                4\n",
      "180GB SSD                          3\n",
      "16GB SSD                           3\n",
      "1TB SSD +  1TB HDD                 2\n",
      "512GB SSD +  2TB HDD               2\n",
      "256GB SSD +  256GB SSD             1\n",
      "128GB SSD +  2TB HDD               1\n",
      "512GB SSD +  512GB SSD             1\n",
      "64GB Flash Storage +  1TB HDD      1\n",
      "64GB SSD                           1\n",
      "128GB HDD                          1\n",
      "512GB SSD +  256GB SSD             1\n",
      "240GB SSD                          1\n",
      "508GB Hybrid                       1\n",
      "8GB SSD                            1\n",
      "256GB SSD +  500GB HDD             1\n",
      "1.0TB HDD                          1\n",
      "512GB Flash Storage                1\n",
      "1TB HDD +  1TB HDD                 1\n",
      "32GB HDD                           1\n",
      "Name: count, dtype: int64\n"
     ]
    }
   ],
   "source": [
    "print(df.memory.value_counts())"
   ]
  },
  {
   "cell_type": "code",
   "execution_count": 9,
   "metadata": {},
   "outputs": [],
   "source": [
    "def parse_storage(text):\n",
    "    # Expresiones para detectar cada tipo y cantidad\n",
    "    total = 0\n",
    "    ssd = 0\n",
    "\n",
    "    for part in text.split(\"+\"): #divido en dos partes si hay almacenamiento combinado\n",
    "        part = part.strip().upper() #analizo cada parte\n",
    "        if \"SSD\" in part or \"FLASH\" in part: #filtramos si es memoria SSD o Flash Storage y en ese caso guardaré en ssd y en total\n",
    "            if \"TB\" in part:\n",
    "                value = float(re.search(r\"(\\d+\\.?\\d*)TB\", part).group(1)) * 1024 #convertimos a GB\n",
    "            elif \"GB\" in part:\n",
    "                value = float(re.search(r\"(\\d+\\.?\\d*)GB\", part).group(1))\n",
    "            else:\n",
    "                value = 0\n",
    "            ssd += value\n",
    "            total += value\n",
    "        #aquí ya estaríamos dentro de los casos HDD, filtramos otra vez entre TB y GB para hacer la conversión\n",
    "        elif \"TB\" in part: \n",
    "            total += float(re.search(r\"(\\d+\\.?\\d*)TB\", part).group(1)) * 1024\n",
    "        elif 'GB' in part:\n",
    "            total += float(re.search(r\"(\\d+\\.?\\d*)GB\", part).group(1))\n",
    "    \n",
    "    return pd.Series([total, ssd])\n",
    "\n",
    "# Aplicamos a train y test\n",
    "df[[\"total_storage_gb\", \"ssd_storage_gb\"]] = df[\"memory\"].apply(parse_storage)\n",
    "test[[\"total_storage_gb\", \"ssd_storage_gb\"]] = test[\"memory\"].apply(parse_storage)"
   ]
  },
  {
   "cell_type": "markdown",
   "metadata": {},
   "source": [
    "Vemos en un info las columnas que nos han quedado y sus tipos:"
   ]
  },
  {
   "cell_type": "code",
   "execution_count": 10,
   "metadata": {},
   "outputs": [
    {
     "name": "stdout",
     "output_type": "stream",
     "text": [
      "<class 'pandas.core.frame.DataFrame'>\n",
      "Index: 912 entries, 755 to 229\n",
      "Data columns (total 18 columns):\n",
      " #   Column            Non-Null Count  Dtype  \n",
      "---  ------            --------------  -----  \n",
      " 0   company           912 non-null    object \n",
      " 1   product           912 non-null    object \n",
      " 2   typename          912 non-null    object \n",
      " 3   inches            912 non-null    float64\n",
      " 4   screenresolution  912 non-null    object \n",
      " 5   cpu               912 non-null    object \n",
      " 6   ram               912 non-null    object \n",
      " 7   memory            912 non-null    object \n",
      " 8   gpu               912 non-null    object \n",
      " 9   opsys             912 non-null    object \n",
      " 10  weight            912 non-null    object \n",
      " 11  price_in_euros    912 non-null    float64\n",
      " 12  ram_in_gb         912 non-null    float64\n",
      " 13  weight_in_kg      912 non-null    float64\n",
      " 14  res_x             912 non-null    float64\n",
      " 15  res_y             912 non-null    float64\n",
      " 16  total_storage_gb  912 non-null    float64\n",
      " 17  ssd_storage_gb    912 non-null    float64\n",
      "dtypes: float64(8), object(10)\n",
      "memory usage: 135.4+ KB\n",
      "None\n"
     ]
    }
   ],
   "source": [
    "print(df.info())"
   ]
  },
  {
   "cell_type": "code",
   "execution_count": 11,
   "metadata": {},
   "outputs": [],
   "source": [
    "# Ahora hacemos un one-hot encoding de las categóricas\n",
    "df = pd.get_dummies(df, columns=[\"company\", \"product\", \"typename\", \"cpu\", \"gpu\", \"opsys\"], drop_first=True)\n",
    "test = pd.get_dummies(test, columns=[\"company\", \"product\", \"typename\", \"cpu\", \"gpu\", \"opsys\"], drop_first=True)"
   ]
  },
  {
   "cell_type": "markdown",
   "metadata": {},
   "source": [
    "---"
   ]
  },
  {
   "cell_type": "markdown",
   "metadata": {},
   "source": [
    "## Modelado"
   ]
  },
  {
   "cell_type": "markdown",
   "metadata": {},
   "source": [
    "### 1. Definir X e y"
   ]
  },
  {
   "cell_type": "code",
   "execution_count": 12,
   "metadata": {},
   "outputs": [],
   "source": [
    "# Selección de features\n",
    "X = df.drop(columns=[\"price_in_euros\", \"screenresolution\", \"ram\", \"memory\", \"weight\"])\n",
    "y = df[\"price_in_euros\"]"
   ]
  },
  {
   "cell_type": "markdown",
   "metadata": {},
   "source": [
    "### 2. Dividir X_train, X_test, y_train, y_test"
   ]
  },
  {
   "cell_type": "code",
   "execution_count": 13,
   "metadata": {},
   "outputs": [],
   "source": [
    "X_train, X_test, y_train, y_test = train_test_split(X, y, test_size = 0.20, random_state = 42)"
   ]
  },
  {
   "cell_type": "markdown",
   "metadata": {},
   "source": [
    "### 3. Modelo"
   ]
  },
  {
   "cell_type": "markdown",
   "metadata": {},
   "source": [
    "Después de haber hecho GridSearch con el split train-test los mejores hiperparámetros eran estos. Así que para no perder información entrenamos ahora con TODO el dataset para hacer luego el submit."
   ]
  },
  {
   "cell_type": "code",
   "execution_count": 14,
   "metadata": {},
   "outputs": [],
   "source": [
    "best_model = XGBRegressor(\n",
    "    objective='reg:squarederror',\n",
    "    random_state=42,\n",
    "    n_estimators=740,\n",
    "    learning_rate=0.0635,\n",
    "    max_depth=7,\n",
    "    colsample_bytree=0.36,\n",
    "    subsample=0.46\n",
    ")\n",
    "\n",
    "best_model.fit(X, y)\n",
    "\n",
    "# Predicción para el conjunto de test de Kaggle\n",
    "X_kaggle_test = test.reindex(columns=X.columns, fill_value=0)\n",
    "predictions_submit = best_model.predict(X_kaggle_test)"
   ]
  },
  {
   "cell_type": "markdown",
   "metadata": {},
   "source": [
    "## Kaggle submission"
   ]
  },
  {
   "cell_type": "markdown",
   "metadata": {},
   "source": [
    "Visualizamos el sample submission de ejemplo para copiar su estructura:"
   ]
  },
  {
   "cell_type": "code",
   "execution_count": 15,
   "metadata": {},
   "outputs": [
    {
     "data": {
      "text/html": [
       "<div>\n",
       "<style scoped>\n",
       "    .dataframe tbody tr th:only-of-type {\n",
       "        vertical-align: middle;\n",
       "    }\n",
       "\n",
       "    .dataframe tbody tr th {\n",
       "        vertical-align: top;\n",
       "    }\n",
       "\n",
       "    .dataframe thead th {\n",
       "        text-align: right;\n",
       "    }\n",
       "</style>\n",
       "<table border=\"1\" class=\"dataframe\">\n",
       "  <thead>\n",
       "    <tr style=\"text-align: right;\">\n",
       "      <th></th>\n",
       "      <th>laptop_ID</th>\n",
       "      <th>Price_in_euros</th>\n",
       "    </tr>\n",
       "  </thead>\n",
       "  <tbody>\n",
       "    <tr>\n",
       "      <th>0</th>\n",
       "      <td>209</td>\n",
       "      <td>1949.1</td>\n",
       "    </tr>\n",
       "    <tr>\n",
       "      <th>1</th>\n",
       "      <td>1281</td>\n",
       "      <td>805.0</td>\n",
       "    </tr>\n",
       "    <tr>\n",
       "      <th>2</th>\n",
       "      <td>1168</td>\n",
       "      <td>1101.0</td>\n",
       "    </tr>\n",
       "    <tr>\n",
       "      <th>3</th>\n",
       "      <td>1231</td>\n",
       "      <td>1293.8</td>\n",
       "    </tr>\n",
       "    <tr>\n",
       "      <th>4</th>\n",
       "      <td>1020</td>\n",
       "      <td>1832.6</td>\n",
       "    </tr>\n",
       "  </tbody>\n",
       "</table>\n",
       "</div>"
      ],
      "text/plain": [
       "   laptop_ID  Price_in_euros\n",
       "0        209          1949.1\n",
       "1       1281           805.0\n",
       "2       1168          1101.0\n",
       "3       1231          1293.8\n",
       "4       1020          1832.6"
      ]
     },
     "metadata": {},
     "output_type": "display_data"
    },
    {
     "name": "stdout",
     "output_type": "stream",
     "text": [
      "(391, 2)\n"
     ]
    }
   ],
   "source": [
    "sample = pd.read_csv(\"./data/sample_submission.csv\")\n",
    "display(sample.head())\n",
    "print(sample.shape)"
   ]
  },
  {
   "cell_type": "markdown",
   "metadata": {},
   "source": [
    "Creamos lo que será nuestra submission basándonos en la de ejemplo:"
   ]
  },
  {
   "cell_type": "code",
   "execution_count": 16,
   "metadata": {},
   "outputs": [
    {
     "data": {
      "text/html": [
       "<div>\n",
       "<style scoped>\n",
       "    .dataframe tbody tr th:only-of-type {\n",
       "        vertical-align: middle;\n",
       "    }\n",
       "\n",
       "    .dataframe tbody tr th {\n",
       "        vertical-align: top;\n",
       "    }\n",
       "\n",
       "    .dataframe thead th {\n",
       "        text-align: right;\n",
       "    }\n",
       "</style>\n",
       "<table border=\"1\" class=\"dataframe\">\n",
       "  <thead>\n",
       "    <tr style=\"text-align: right;\">\n",
       "      <th></th>\n",
       "      <th>laptop_ID</th>\n",
       "      <th>Price_in_euros</th>\n",
       "    </tr>\n",
       "  </thead>\n",
       "  <tbody>\n",
       "    <tr>\n",
       "      <th>0</th>\n",
       "      <td>209</td>\n",
       "      <td>1284.837524</td>\n",
       "    </tr>\n",
       "    <tr>\n",
       "      <th>1</th>\n",
       "      <td>1281</td>\n",
       "      <td>315.118347</td>\n",
       "    </tr>\n",
       "    <tr>\n",
       "      <th>2</th>\n",
       "      <td>1168</td>\n",
       "      <td>368.480835</td>\n",
       "    </tr>\n",
       "    <tr>\n",
       "      <th>3</th>\n",
       "      <td>1231</td>\n",
       "      <td>970.736023</td>\n",
       "    </tr>\n",
       "    <tr>\n",
       "      <th>4</th>\n",
       "      <td>1020</td>\n",
       "      <td>1024.315430</td>\n",
       "    </tr>\n",
       "  </tbody>\n",
       "</table>\n",
       "</div>"
      ],
      "text/plain": [
       "   laptop_ID  Price_in_euros\n",
       "0        209     1284.837524\n",
       "1       1281      315.118347\n",
       "2       1168      368.480835\n",
       "3       1231      970.736023\n",
       "4       1020     1024.315430"
      ]
     },
     "metadata": {},
     "output_type": "display_data"
    },
    {
     "name": "stdout",
     "output_type": "stream",
     "text": [
      "(391, 2)\n"
     ]
    }
   ],
   "source": [
    "# Creamos el DataFrame de submission con la estructura correcta\n",
    "submission = pd.DataFrame({\n",
    "    \"laptop_ID\": test.index,\n",
    "    \"Price_in_euros\": predictions_submit\n",
    "})\n",
    "display(submission.head())\n",
    "print(submission.shape)"
   ]
  },
  {
   "cell_type": "markdown",
   "metadata": {},
   "source": [
    "Comprobamos con el chequeador que está todo correcto y generamos el csv que subiremos:"
   ]
  },
  {
   "cell_type": "code",
   "execution_count": 17,
   "metadata": {},
   "outputs": [],
   "source": [
    "def chequeador(df_to_submit):\n",
    "    \"\"\"\n",
    "    Esta función se asegura de que tu submission tenga la forma requerida por Kaggle.\n",
    "    \n",
    "    Si es así, se guardará el dataframe en un `csv` y estará listo para subir a Kaggle.\n",
    "    \n",
    "    Si no, LEE EL MENSAJE Y HAZLE CASO.\n",
    "    \n",
    "    Si aún no:\n",
    "    - apaga tu ordenador, \n",
    "    - date una vuelta, \n",
    "    - enciendelo otra vez, \n",
    "    - abre este notebook y \n",
    "    - leelo todo de nuevo. \n",
    "    Todos nos merecemos una segunda oportunidad. También tú.\n",
    "    \"\"\"\n",
    "    if df_to_submit.shape == sample.shape:\n",
    "        if df_to_submit.columns.all() == sample.columns.all():\n",
    "            if df_to_submit.laptop_ID.all() == sample.laptop_ID.all():\n",
    "                print(\"You're ready to submit!\")\n",
    "                submission.to_csv(\"submission_xgb.csv\", index = False) #muy importante el index = False\n",
    "                urllib.request.urlretrieve(\"https://www.mihaileric.com/static/evaluation-meme-e0a350f278a36346e6d46b139b1d0da0-ed51e.jpg\", \"gfg.png\")     \n",
    "                img = Image.open(\"gfg.png\")\n",
    "                img.show()   \n",
    "            else:\n",
    "                print(\"Check the ids and try again\")\n",
    "        else:\n",
    "            print(\"Check the names of the columns and try again\")\n",
    "    else:\n",
    "        print(\"Check the number of rows and/or columns and try again\")\n",
    "        print(\"\\nMensaje secreto del TA: No me puedo creer que después de todo este notebook hayas hecho algún cambio en las filas de `test.csv`. Lloro.\")"
   ]
  },
  {
   "cell_type": "code",
   "execution_count": 18,
   "metadata": {},
   "outputs": [
    {
     "name": "stdout",
     "output_type": "stream",
     "text": [
      "You're ready to submit!\n"
     ]
    }
   ],
   "source": [
    "chequeador(submission)"
   ]
  },
  {
   "cell_type": "code",
   "execution_count": null,
   "metadata": {},
   "outputs": [],
   "source": []
  }
 ],
 "metadata": {
  "kernelspec": {
   "display_name": "Python 3",
   "language": "python",
   "name": "python3"
  },
  "language_info": {
   "codemirror_mode": {
    "name": "ipython",
    "version": 3
   },
   "file_extension": ".py",
   "mimetype": "text/x-python",
   "name": "python",
   "nbconvert_exporter": "python",
   "pygments_lexer": "ipython3",
   "version": "3.12.6"
  }
 },
 "nbformat": 4,
 "nbformat_minor": 4
}
